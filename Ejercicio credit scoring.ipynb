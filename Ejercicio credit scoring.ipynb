{
 "cells": [
  {
   "cell_type": "markdown",
   "metadata": {},
   "source": [
    "### Librerias y datos"
   ]
  },
  {
   "cell_type": "code",
   "execution_count": 3,
   "metadata": {},
   "outputs": [],
   "source": [
    "# Librerias\n",
    "import pandas as pd\n",
    "from sklearn.model_selection import train_test_split\n",
    "import warnings\n",
    "from importlib import reload\n",
    "\n",
    "# Libreria con las funciones personalizadas\n",
    "import creditScoring_toolKit\n",
    "reload(creditScoring_toolKit)\n",
    "from creditScoring_toolKit import *"
   ]
  },
  {
   "cell_type": "code",
   "execution_count": 4,
   "metadata": {},
   "outputs": [],
   "source": [
    "# Cargamos datos\n",
    "datos = pd.read_csv('Data/loan_data.csv')"
   ]
  },
  {
   "cell_type": "markdown",
   "metadata": {},
   "source": [
    "### Preparacion de base"
   ]
  },
  {
   "cell_type": "code",
   "execution_count": 5,
   "metadata": {},
   "outputs": [],
   "source": [
    "# Sustituimos valores NAN por -1 en caso de variables numericas y \"Sin informacion\" en casto de categoricas\n",
    "for variable in datos.columns:\n",
    "    if datos[variable].dtype in (int,float):\n",
    "        datos[variable] = datos[variable].fillna(-1)\n",
    "    else:\n",
    "        datos[variable] = datos[variable].fillna('Sin informacion')"
   ]
  },
  {
   "cell_type": "markdown",
   "metadata": {},
   "source": [
    "### Creamos base train y test"
   ]
  },
  {
   "cell_type": "markdown",
   "metadata": {},
   "source": [
    "##### En caso de aun no haber creado las bases train y test"
   ]
  },
  {
   "cell_type": "code",
   "execution_count": 6,
   "metadata": {},
   "outputs": [],
   "source": [
    "# Dividimos la base en train y test\n",
    "train, test = train_test_split(datos, train_size=0.7,random_state=123)"
   ]
  },
  {
   "cell_type": "code",
   "execution_count": 7,
   "metadata": {},
   "outputs": [],
   "source": [
    "# Guardamos train y test para no volver a hacer la muestra mas adelante\n",
    "train.to_csv('Data/train.csv',index=False)\n",
    "test.to_csv('Data/test.csv',index=False)"
   ]
  },
  {
   "cell_type": "markdown",
   "metadata": {},
   "source": [
    "##### En caso de ya haber creado las bases train y test"
   ]
  },
  {
   "cell_type": "code",
   "execution_count": 8,
   "metadata": {},
   "outputs": [],
   "source": [
    "# Cargamos datos de csv\n",
    "train = pd.read_csv('Data/train.csv')\n",
    "test = pd.read_csv('Data/test.csv')"
   ]
  },
  {
   "cell_type": "markdown",
   "metadata": {},
   "source": [
    "### Cálculo information value y WOEs variables"
   ]
  },
  {
   "cell_type": "code",
   "execution_count": 9,
   "metadata": {},
   "outputs": [],
   "source": [
    "# Clasificamos variables en categoricas y numericas sin incluir variable target\n",
    "numericas, categoricas = var_numericas_categoricas(train,['SK_ID_CURR','TARGET'])"
   ]
  },
  {
   "cell_type": "markdown",
   "metadata": {},
   "source": [
    "##### Variables categoricas"
   ]
  },
  {
   "cell_type": "code",
   "execution_count": 10,
   "metadata": {},
   "outputs": [],
   "source": [
    "# Calculamos IV y WOEs para todas las variables categoricas\n",
    "\n",
    "# df vacios donde se almacenaran los resultados\n",
    "iv_categoricas = pd.DataFrame()\n",
    "woe_categoricas = pd.DataFrame()\n",
    "\n",
    "# Aplicamos la funcion calculate_iv_cat a todas las variables categoricas\n",
    "for variable in categoricas:\n",
    "    with warnings.catch_warnings():\n",
    "        warnings.simplefilter(\"ignore\", category=RuntimeWarning)\n",
    "        iv, woe = calculate_iv_cat(base=train,variable=variable,target='TARGET')\n",
    "\n",
    "    if iv_categoricas.empty:\n",
    "        iv_categoricas = iv\n",
    "        woe_categoricas = woe\n",
    "    else:\n",
    "        iv_categoricas = pd.concat([iv_categoricas,iv])\n",
    "        woe_categoricas = pd.concat([woe_categoricas,woe])\n",
    "\n",
    "# Eliminamos variables de apoyo\n",
    "del(iv,woe,variable)"
   ]
  },
  {
   "cell_type": "markdown",
   "metadata": {},
   "source": [
    "##### Variables numericas"
   ]
  },
  {
   "cell_type": "code",
   "execution_count": 11,
   "metadata": {},
   "outputs": [],
   "source": [
    "# Calculamos IV y WOEs de variables numericas\n",
    "\n",
    "# df vacios donde se almacenaran los resultados\n",
    "iv_numericas = pd.DataFrame()\n",
    "woe_numericas = pd.DataFrame()\n",
    "\n",
    "for variable in numericas:\n",
    "    # Calcula las categorias optimas de cada variable numerica\n",
    "    categorias = optimal_binning(train,variable,'TARGET')\n",
    "    \n",
    "    iv, woe = calculate_iv_num(train,variable,'TARGET',categorias)\n",
    "\n",
    "    if iv_numericas.empty:\n",
    "        iv_numericas = iv\n",
    "        woe_numericas = woe\n",
    "    else:\n",
    "        iv_numericas = pd.concat([iv_numericas,iv])\n",
    "        woe_numericas = pd.concat([woe_numericas,woe])\n",
    "\n",
    "# Eliminamos variables de apoyo\n",
    "del(iv,woe,variable)"
   ]
  },
  {
   "cell_type": "markdown",
   "metadata": {},
   "source": [
    "##### Unimos resultados de numericas y categoricas"
   ]
  },
  {
   "cell_type": "code",
   "execution_count": 12,
   "metadata": {},
   "outputs": [],
   "source": [
    "# Unimos resultados de IV y WOEs\n",
    "# Information value\n",
    "resultados_iv = pd.concat([iv_numericas,iv_categoricas])\n",
    "\n",
    "# Information woe\n",
    "resultados_woe = pd.concat([woe_numericas,woe_categoricas])\n",
    "\n",
    "del(iv_numericas,iv_categoricas,woe_numericas,woe_categoricas)"
   ]
  },
  {
   "cell_type": "markdown",
   "metadata": {},
   "source": [
    "### Base WOEs train y test"
   ]
  },
  {
   "cell_type": "code",
   "execution_count": 13,
   "metadata": {},
   "outputs": [],
   "source": [
    "# Lista variables\n",
    "variables = train.columns.to_list()\n",
    "variables.remove('SK_ID_CURR')\n",
    "variables.remove('TARGET')"
   ]
  },
  {
   "cell_type": "code",
   "execution_count": 21,
   "metadata": {},
   "outputs": [
    {
     "ename": "KeyboardInterrupt",
     "evalue": "",
     "output_type": "error",
     "traceback": [
      "\u001b[1;31m---------------------------------------------------------------------------\u001b[0m",
      "\u001b[1;31mKeyboardInterrupt\u001b[0m                         Traceback (most recent call last)",
      "Cell \u001b[1;32mIn[21], line 5\u001b[0m\n\u001b[0;32m      2\u001b[0m base_woes_train \u001b[38;5;241m=\u001b[39m pd\u001b[38;5;241m.\u001b[39mDataFrame()\n\u001b[0;32m      3\u001b[0m \u001b[38;5;28;01mfor\u001b[39;00m variable \u001b[38;5;129;01min\u001b[39;00m variables:\n\u001b[0;32m      4\u001b[0m     \u001b[38;5;66;03m# Asignamos los valores woes de acuerdo al valor de la variable\u001b[39;00m\n\u001b[1;32m----> 5\u001b[0m     base_woe_variable \u001b[38;5;241m=\u001b[39m \u001b[43mbase_woes\u001b[49m\u001b[43m(\u001b[49m\u001b[43mtrain\u001b[49m\u001b[43m,\u001b[49m\u001b[43mvariable\u001b[49m\u001b[43m,\u001b[49m\u001b[43mresultados_woe\u001b[49m\u001b[43m)\u001b[49m\n\u001b[0;32m      7\u001b[0m     \u001b[38;5;66;03m# Agrupamos variables con valor woe\u001b[39;00m\n\u001b[0;32m      8\u001b[0m     \u001b[38;5;28;01mif\u001b[39;00m base_woes_train\u001b[38;5;241m.\u001b[39mempty:\n",
      "File \u001b[1;32mc:\\Users\\herbe\\OneDrive\\Documentos\\Proyectos\\Credit scoring\\creditScoring_toolKit.py:138\u001b[0m, in \u001b[0;36mbase_woes\u001b[1;34m(base_variables, variable, base_categorias)\u001b[0m\n\u001b[0;32m    135\u001b[0m     categoria_woe \u001b[38;5;241m=\u001b[39m base_variables[[variable]]\u001b[38;5;241m.\u001b[39mcopy()\n\u001b[0;32m    137\u001b[0m     \u001b[38;5;66;03m# Asignar los valores WOE a la variable especificada en el DataFrame base_variables\u001b[39;00m\n\u001b[1;32m--> 138\u001b[0m     categoria_woe[\u001b[38;5;124mf\u001b[39m\u001b[38;5;124m'\u001b[39m\u001b[38;5;132;01m{\u001b[39;00mvariable\u001b[38;5;132;01m}\u001b[39;00m\u001b[38;5;124m_woe\u001b[39m\u001b[38;5;124m'\u001b[39m] \u001b[38;5;241m=\u001b[39m \u001b[43mpd\u001b[49m\u001b[38;5;241;43m.\u001b[39;49m\u001b[43mcut\u001b[49m\u001b[43m(\u001b[49m\u001b[43mcategoria_woe\u001b[49m\u001b[43m[\u001b[49m\u001b[43mvariable\u001b[49m\u001b[43m]\u001b[49m\u001b[43m,\u001b[49m\u001b[43m \u001b[49m\u001b[43mbins\u001b[49m\u001b[38;5;241;43m=\u001b[39;49m\u001b[43mbin_intervals\u001b[49m\u001b[43m)\u001b[49m\u001b[38;5;241m.\u001b[39mmap(woe_mapping)\n\u001b[0;32m    140\u001b[0m \u001b[38;5;66;03m# Para variables categóricas\u001b[39;00m\n\u001b[0;32m    141\u001b[0m \u001b[38;5;28;01melse\u001b[39;00m:\n\u001b[0;32m    142\u001b[0m     \u001b[38;5;66;03m# Filtrar las categorías para la variable especificada\u001b[39;00m\n\u001b[0;32m    143\u001b[0m     categorias \u001b[38;5;241m=\u001b[39m base_categorias[base_categorias[\u001b[38;5;124m'\u001b[39m\u001b[38;5;124mvariable\u001b[39m\u001b[38;5;124m'\u001b[39m] \u001b[38;5;241m==\u001b[39m variable]\n",
      "File \u001b[1;32mc:\\Users\\herbe\\AppData\\Local\\Programs\\Python\\Python311\\Lib\\site-packages\\pandas\\core\\reshape\\tile.py:293\u001b[0m, in \u001b[0;36mcut\u001b[1;34m(x, bins, right, labels, retbins, precision, include_lowest, duplicates, ordered)\u001b[0m\n\u001b[0;32m    290\u001b[0m     \u001b[38;5;28;01mif\u001b[39;00m (np\u001b[38;5;241m.\u001b[39mdiff(bins\u001b[38;5;241m.\u001b[39mastype(\u001b[38;5;124m\"\u001b[39m\u001b[38;5;124mfloat64\u001b[39m\u001b[38;5;124m\"\u001b[39m)) \u001b[38;5;241m<\u001b[39m \u001b[38;5;241m0\u001b[39m)\u001b[38;5;241m.\u001b[39many():\n\u001b[0;32m    291\u001b[0m         \u001b[38;5;28;01mraise\u001b[39;00m \u001b[38;5;167;01mValueError\u001b[39;00m(\u001b[38;5;124m\"\u001b[39m\u001b[38;5;124mbins must increase monotonically.\u001b[39m\u001b[38;5;124m\"\u001b[39m)\n\u001b[1;32m--> 293\u001b[0m fac, bins \u001b[38;5;241m=\u001b[39m \u001b[43m_bins_to_cuts\u001b[49m\u001b[43m(\u001b[49m\n\u001b[0;32m    294\u001b[0m \u001b[43m    \u001b[49m\u001b[43mx\u001b[49m\u001b[43m,\u001b[49m\n\u001b[0;32m    295\u001b[0m \u001b[43m    \u001b[49m\u001b[43mbins\u001b[49m\u001b[43m,\u001b[49m\n\u001b[0;32m    296\u001b[0m \u001b[43m    \u001b[49m\u001b[43mright\u001b[49m\u001b[38;5;241;43m=\u001b[39;49m\u001b[43mright\u001b[49m\u001b[43m,\u001b[49m\n\u001b[0;32m    297\u001b[0m \u001b[43m    \u001b[49m\u001b[43mlabels\u001b[49m\u001b[38;5;241;43m=\u001b[39;49m\u001b[43mlabels\u001b[49m\u001b[43m,\u001b[49m\n\u001b[0;32m    298\u001b[0m \u001b[43m    \u001b[49m\u001b[43mprecision\u001b[49m\u001b[38;5;241;43m=\u001b[39;49m\u001b[43mprecision\u001b[49m\u001b[43m,\u001b[49m\n\u001b[0;32m    299\u001b[0m \u001b[43m    \u001b[49m\u001b[43minclude_lowest\u001b[49m\u001b[38;5;241;43m=\u001b[39;49m\u001b[43minclude_lowest\u001b[49m\u001b[43m,\u001b[49m\n\u001b[0;32m    300\u001b[0m \u001b[43m    \u001b[49m\u001b[43mdtype\u001b[49m\u001b[38;5;241;43m=\u001b[39;49m\u001b[43mdtype\u001b[49m\u001b[43m,\u001b[49m\n\u001b[0;32m    301\u001b[0m \u001b[43m    \u001b[49m\u001b[43mduplicates\u001b[49m\u001b[38;5;241;43m=\u001b[39;49m\u001b[43mduplicates\u001b[49m\u001b[43m,\u001b[49m\n\u001b[0;32m    302\u001b[0m \u001b[43m    \u001b[49m\u001b[43mordered\u001b[49m\u001b[38;5;241;43m=\u001b[39;49m\u001b[43mordered\u001b[49m\u001b[43m,\u001b[49m\n\u001b[0;32m    303\u001b[0m \u001b[43m\u001b[49m\u001b[43m)\u001b[49m\n\u001b[0;32m    305\u001b[0m \u001b[38;5;28;01mreturn\u001b[39;00m _postprocess_for_cut(fac, bins, retbins, dtype, original)\n",
      "File \u001b[1;32mc:\\Users\\herbe\\AppData\\Local\\Programs\\Python\\Python311\\Lib\\site-packages\\pandas\\core\\reshape\\tile.py:413\u001b[0m, in \u001b[0;36m_bins_to_cuts\u001b[1;34m(x, bins, right, labels, precision, include_lowest, dtype, duplicates, ordered)\u001b[0m\n\u001b[0;32m    407\u001b[0m     \u001b[38;5;28;01mraise\u001b[39;00m \u001b[38;5;167;01mValueError\u001b[39;00m(\n\u001b[0;32m    408\u001b[0m         \u001b[38;5;124m\"\u001b[39m\u001b[38;5;124minvalid value for \u001b[39m\u001b[38;5;124m'\u001b[39m\u001b[38;5;124mduplicates\u001b[39m\u001b[38;5;124m'\u001b[39m\u001b[38;5;124m parameter, valid options are: raise, drop\u001b[39m\u001b[38;5;124m\"\u001b[39m\n\u001b[0;32m    409\u001b[0m     )\n\u001b[0;32m    411\u001b[0m \u001b[38;5;28;01mif\u001b[39;00m \u001b[38;5;28misinstance\u001b[39m(bins, IntervalIndex):\n\u001b[0;32m    412\u001b[0m     \u001b[38;5;66;03m# we have a fast-path here\u001b[39;00m\n\u001b[1;32m--> 413\u001b[0m     ids \u001b[38;5;241m=\u001b[39m \u001b[43mbins\u001b[49m\u001b[38;5;241;43m.\u001b[39;49m\u001b[43mget_indexer\u001b[49m\u001b[43m(\u001b[49m\u001b[43mx\u001b[49m\u001b[43m)\u001b[49m\n\u001b[0;32m    414\u001b[0m     cat_dtype \u001b[38;5;241m=\u001b[39m CategoricalDtype(bins, ordered\u001b[38;5;241m=\u001b[39m\u001b[38;5;28;01mTrue\u001b[39;00m)\n\u001b[0;32m    415\u001b[0m     result \u001b[38;5;241m=\u001b[39m Categorical\u001b[38;5;241m.\u001b[39mfrom_codes(ids, dtype\u001b[38;5;241m=\u001b[39mcat_dtype, validate\u001b[38;5;241m=\u001b[39m\u001b[38;5;28;01mFalse\u001b[39;00m)\n",
      "File \u001b[1;32mc:\\Users\\herbe\\AppData\\Local\\Programs\\Python\\Python311\\Lib\\site-packages\\pandas\\core\\indexes\\base.py:3942\u001b[0m, in \u001b[0;36mIndex.get_indexer\u001b[1;34m(self, target, method, limit, tolerance)\u001b[0m\n\u001b[0;32m   3937\u001b[0m     target \u001b[38;5;241m=\u001b[39m target\u001b[38;5;241m.\u001b[39mastype(dtype, copy\u001b[38;5;241m=\u001b[39m\u001b[38;5;28;01mFalse\u001b[39;00m)\n\u001b[0;32m   3938\u001b[0m     \u001b[38;5;28;01mreturn\u001b[39;00m this\u001b[38;5;241m.\u001b[39m_get_indexer(\n\u001b[0;32m   3939\u001b[0m         target, method\u001b[38;5;241m=\u001b[39mmethod, limit\u001b[38;5;241m=\u001b[39mlimit, tolerance\u001b[38;5;241m=\u001b[39mtolerance\n\u001b[0;32m   3940\u001b[0m     )\n\u001b[1;32m-> 3942\u001b[0m \u001b[38;5;28;01mreturn\u001b[39;00m \u001b[38;5;28;43mself\u001b[39;49m\u001b[38;5;241;43m.\u001b[39;49m\u001b[43m_get_indexer\u001b[49m\u001b[43m(\u001b[49m\u001b[43mtarget\u001b[49m\u001b[43m,\u001b[49m\u001b[43m \u001b[49m\u001b[43mmethod\u001b[49m\u001b[43m,\u001b[49m\u001b[43m \u001b[49m\u001b[43mlimit\u001b[49m\u001b[43m,\u001b[49m\u001b[43m \u001b[49m\u001b[43mtolerance\u001b[49m\u001b[43m)\u001b[49m\n",
      "File \u001b[1;32mc:\\Users\\herbe\\AppData\\Local\\Programs\\Python\\Python311\\Lib\\site-packages\\pandas\\core\\indexes\\interval.py:704\u001b[0m, in \u001b[0;36mIntervalIndex._get_indexer\u001b[1;34m(self, target, method, limit, tolerance)\u001b[0m\n\u001b[0;32m    700\u001b[0m \u001b[38;5;28;01melif\u001b[39;00m \u001b[38;5;129;01mnot\u001b[39;00m is_object_dtype(target\u001b[38;5;241m.\u001b[39mdtype):\n\u001b[0;32m    701\u001b[0m     \u001b[38;5;66;03m# homogeneous scalar index: use IntervalTree\u001b[39;00m\n\u001b[0;32m    702\u001b[0m     \u001b[38;5;66;03m# we should always have self._should_partial_index(target) here\u001b[39;00m\n\u001b[0;32m    703\u001b[0m     target \u001b[38;5;241m=\u001b[39m \u001b[38;5;28mself\u001b[39m\u001b[38;5;241m.\u001b[39m_maybe_convert_i8(target)\n\u001b[1;32m--> 704\u001b[0m     indexer \u001b[38;5;241m=\u001b[39m \u001b[38;5;28;43mself\u001b[39;49m\u001b[38;5;241;43m.\u001b[39;49m\u001b[43m_engine\u001b[49m\u001b[38;5;241;43m.\u001b[39;49m\u001b[43mget_indexer\u001b[49m\u001b[43m(\u001b[49m\u001b[43mtarget\u001b[49m\u001b[38;5;241;43m.\u001b[39;49m\u001b[43mvalues\u001b[49m\u001b[43m)\u001b[49m\n\u001b[0;32m    705\u001b[0m \u001b[38;5;28;01melse\u001b[39;00m:\n\u001b[0;32m    706\u001b[0m     \u001b[38;5;66;03m# heterogeneous scalar index: defer elementwise to get_loc\u001b[39;00m\n\u001b[0;32m    707\u001b[0m     \u001b[38;5;66;03m# we should always have self._should_partial_index(target) here\u001b[39;00m\n\u001b[0;32m    708\u001b[0m     \u001b[38;5;28;01mreturn\u001b[39;00m \u001b[38;5;28mself\u001b[39m\u001b[38;5;241m.\u001b[39m_get_indexer_pointwise(target)[\u001b[38;5;241m0\u001b[39m]\n",
      "\u001b[1;31mKeyboardInterrupt\u001b[0m: "
     ]
    }
   ],
   "source": [
    "# Creamos la base WOEs train\n",
    "base_woes_train = pd.DataFrame()\n",
    "for variable in variables:\n",
    "    # Asignamos los valores woes de acuerdo al valor de la variable\n",
    "    base_woe_variable = base_woes(train,variable,resultados_woe)\n",
    "    \n",
    "    # Agrupamos variables con valor woe\n",
    "    if base_woes_train.empty:\n",
    "        base_woes_train = base_woe_variable\n",
    "    else:\n",
    "        base_woes_train = pd.concat([base_woes_train,base_woe_variable],axis=1)"
   ]
  },
  {
   "cell_type": "code",
   "execution_count": 15,
   "metadata": {},
   "outputs": [],
   "source": [
    "# Creamos la base WOEs test\n",
    "base_woes_test = pd.DataFrame()\n",
    "for variable in variables:\n",
    "    # Asignamos los valores woes de acuerdo al valor de la variable\n",
    "    base_woe_variable = base_woes(test,variable,resultados_woe)\n",
    "    \n",
    "    # Agrupamos variables con valor woe\n",
    "    if base_woes_test.empty:\n",
    "        base_woes_test = base_woe_variable\n",
    "    else:\n",
    "        base_woes_test = pd.concat([base_woes_test,base_woe_variable],axis=1)"
   ]
  },
  {
   "cell_type": "markdown",
   "metadata": {},
   "source": [
    "### Definimos bases X_train, X_test, y_train, y_test\n",
    "A pesar de tener ya una base train y una base test, creamos estos cuatro DataFrames ya que es el estandar mas usado al momento de entrenar modelos."
   ]
  },
  {
   "cell_type": "code",
   "execution_count": 22,
   "metadata": {},
   "outputs": [],
   "source": [
    "# Creamos bases\n",
    "\n",
    "# X_train\n",
    "X_train = base_woes_train\n",
    "\n",
    "# X_test\n",
    "X_test = base_woes_test\n",
    "\n",
    "# y_train\n",
    "y_train = train['TARGET']\n",
    "\n",
    "# y_test\n",
    "y_test = test['TARGET']"
   ]
  },
  {
   "cell_type": "markdown",
   "metadata": {},
   "source": [
    "### Modelo logistico"
   ]
  },
  {
   "cell_type": "code",
   "execution_count": 19,
   "metadata": {},
   "outputs": [],
   "source": [
    "# Librerias\n",
    "from sklearn.linear_model import LogisticRegression\n",
    "from sklearn.metrics import accuracy_score, confusion_matrix, roc_auc_score"
   ]
  },
  {
   "cell_type": "markdown",
   "metadata": {},
   "source": [
    "##### Modelo saturado (todas las variables)\n",
    "Usualmente se calcula un modelo saturado con todas las variables disponibles, esto para darse una idea de cuales son las metricas (AUC, precision) a las que podemos aspirar si usaramos toda la informacion disponible."
   ]
  },
  {
   "cell_type": "code",
   "execution_count": 23,
   "metadata": {},
   "outputs": [
    {
     "name": "stdout",
     "output_type": "stream",
     "text": [
      "Exactitud del modelo test: 0.9182\n",
      "Matriz de confusión test:\n",
      "[[84653    64]\n",
      " [ 7483    54]]\n",
      "AUC-ROC test: 0.7432\n",
      "Exactitud del modelo train: 0.9196\n",
      "Matriz de confusión train:\n",
      "[[197826    143]\n",
      " [ 17157    131]]\n",
      "AUC-ROC train: 0.7465\n"
     ]
    }
   ],
   "source": [
    "# Modelo saturado con lista_variables seleccionadas\n",
    "lista_variables = X_train.columns\n",
    "\n",
    "# Entrenamos modelo y hacemos predicciones\n",
    "model = LogisticRegression(max_iter=1000)\n",
    "model.fit(X_train[lista_variables], y_train)\n",
    "y_pred = model.predict(X_test[lista_variables])\n",
    "\n",
    "# Calculamos metricas\n",
    "accuracy = accuracy_score(y_test, y_pred)\n",
    "conf_matrix = confusion_matrix(y_test, y_pred)\n",
    "roc_auc = roc_auc_score(y_test, model.predict_proba(X_test[lista_variables])[:, 1])\n",
    "\n",
    "# Imprimir los resultados\n",
    "print(f\"Exactitud del modelo test: {accuracy:.4f}\")\n",
    "print(f\"Matriz de confusión test:\\n{conf_matrix}\")\n",
    "print(f\"AUC-ROC test: {roc_auc:.4f}\")\n",
    "\n",
    "\n",
    "y_pred = model.predict(X_train[lista_variables])\n",
    "# Calculamos metricas\n",
    "accuracy = accuracy_score(y_train, y_pred)\n",
    "conf_matrix = confusion_matrix(y_train, y_pred)\n",
    "roc_auc = roc_auc_score(y_train, model.predict_proba(X_train[lista_variables])[:, 1])\n",
    "\n",
    "# Imprimir los resultados\n",
    "print(f\"Exactitud del modelo train: {accuracy:.4f}\")\n",
    "print(f\"Matriz de confusión train:\\n{conf_matrix}\")\n",
    "print(f\"AUC-ROC train: {roc_auc:.4f}\")\n",
    "\n",
    "modelo1_RL = model"
   ]
  }
 ],
 "metadata": {
  "kernelspec": {
   "display_name": "Python 3",
   "language": "python",
   "name": "python3"
  },
  "language_info": {
   "codemirror_mode": {
    "name": "ipython",
    "version": 3
   },
   "file_extension": ".py",
   "mimetype": "text/x-python",
   "name": "python",
   "nbconvert_exporter": "python",
   "pygments_lexer": "ipython3",
   "version": "3.11.4"
  }
 },
 "nbformat": 4,
 "nbformat_minor": 2
}
