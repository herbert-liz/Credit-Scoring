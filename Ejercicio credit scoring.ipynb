{
 "cells": [
  {
   "cell_type": "markdown",
   "metadata": {},
   "source": [
    "### Librerias y datos"
   ]
  },
  {
   "cell_type": "code",
   "execution_count": 1,
   "metadata": {},
   "outputs": [],
   "source": [
    "# Librerias\n",
    "import pandas as pd\n",
    "from sklearn.model_selection import train_test_split\n",
    "from importlib import reload\n",
    "\n",
    "# Libreria con las funciones personalizadas\n",
    "from creditScoring_toolKit import *"
   ]
  },
  {
   "cell_type": "code",
   "execution_count": 7,
   "metadata": {},
   "outputs": [],
   "source": [
    "# Cargamos datos\n",
    "datos = pd.read_csv('Data/loan_data.csv')"
   ]
  },
  {
   "cell_type": "markdown",
   "metadata": {},
   "source": [
    "### Base X_train, X_test, y_train, y_test"
   ]
  },
  {
   "cell_type": "markdown",
   "metadata": {},
   "source": [
    "##### En caso de aun no haber creado las bases train y test"
   ]
  },
  {
   "cell_type": "code",
   "execution_count": 14,
   "metadata": {},
   "outputs": [],
   "source": [
    "# Dividimos la base en train y test\n",
    "train, test = train_test_split(datos, train_size=0.7,random_state=123)"
   ]
  },
  {
   "cell_type": "code",
   "execution_count": 15,
   "metadata": {},
   "outputs": [],
   "source": [
    "# Definimos X_train, X_test, y_train, y_test\n",
    "\n",
    "# Definimos X_train, X_test\n",
    "X_train = train.drop(columns=['SK_ID_CURR','TARGET'])\n",
    "X_test = test.drop(columns=['SK_ID_CURR','TARGET'])\n",
    "\n",
    "# Definimos X_train, X_test\n",
    "y_train = train['TARGET']\n",
    "y_test = test['TARGET']"
   ]
  },
  {
   "cell_type": "code",
   "execution_count": 16,
   "metadata": {},
   "outputs": [],
   "source": [
    "# Guardamos bases X_train, X_test, y_train, y_test\n",
    "X_train.to_csv('Data/X_train.csv',index=False)\n",
    "X_test.to_csv('Data/X_test.csv',index=False)\n",
    "y_train.to_csv('Data/y_train.csv',index=False)\n",
    "y_test.to_csv('Data/y_test.csv',index=False)"
   ]
  },
  {
   "cell_type": "markdown",
   "metadata": {},
   "source": [
    "##### En caso de ya haber creado las bases train y test"
   ]
  },
  {
   "cell_type": "code",
   "execution_count": 2,
   "metadata": {},
   "outputs": [],
   "source": [
    "# Cargamos datos de csv\n",
    "X_train = pd.read_csv('Data/X_train.csv')\n",
    "X_test = pd.read_csv('Data/X_test.csv')\n",
    "y_train = pd.read_csv('Data/y_train.csv')\n",
    "y_test = pd.read_csv('Data/y_test.csv')"
   ]
  },
  {
   "cell_type": "markdown",
   "metadata": {},
   "source": [
    "### Cálculo information value y WOEs variables"
   ]
  },
  {
   "cell_type": "code",
   "execution_count": 3,
   "metadata": {},
   "outputs": [],
   "source": [
    "# Clasificamos variables en categoricas y numericas\n",
    "numericas, categoricas = var_numericas_categoricas(X_train)"
   ]
  },
  {
   "cell_type": "code",
   "execution_count": 4,
   "metadata": {},
   "outputs": [
    {
     "name": "stderr",
     "output_type": "stream",
     "text": [
      "c:\\Users\\herbe\\AppData\\Local\\Programs\\Python\\Python311\\Lib\\site-packages\\pandas\\core\\arraylike.py:396: RuntimeWarning: divide by zero encountered in log\n",
      "  result = getattr(ufunc, method)(*inputs, **kwargs)\n",
      "c:\\Users\\herbe\\AppData\\Local\\Programs\\Python\\Python311\\Lib\\site-packages\\pandas\\core\\arraylike.py:396: RuntimeWarning: divide by zero encountered in log\n",
      "  result = getattr(ufunc, method)(*inputs, **kwargs)\n",
      "c:\\Users\\herbe\\AppData\\Local\\Programs\\Python\\Python311\\Lib\\site-packages\\pandas\\core\\arraylike.py:396: RuntimeWarning: divide by zero encountered in log\n",
      "  result = getattr(ufunc, method)(*inputs, **kwargs)\n"
     ]
    }
   ],
   "source": [
    "# Calculamos IV y WOEs variables categoricas\n",
    "iv_categoricas = pd.DataFrame()\n",
    "woe_categoricas = pd.DataFrame()\n",
    "for variable in categoricas:\n",
    "    iv, woe = calculate_iv_cat(X_train,y_train,variable)\n",
    "\n",
    "    if iv_categoricas.empty:\n",
    "        iv_categoricas = iv\n",
    "        woe_categoricas = woe\n",
    "    else:\n",
    "        iv_categoricas = pd.concat([iv_categoricas,iv])\n",
    "        woe_categoricas = pd.concat([woe_categoricas,woe])\n",
    "\n",
    "# Eliminamos variables de apoyo\n",
    "del(iv,woe,variable)"
   ]
  },
  {
   "cell_type": "code",
   "execution_count": 5,
   "metadata": {},
   "outputs": [
    {
     "name": "stderr",
     "output_type": "stream",
     "text": [
      "c:\\Users\\herbe\\AppData\\Local\\Programs\\Python\\Python311\\Lib\\site-packages\\numpy\\lib\\function_base.py:1452: RuntimeWarning: invalid value encountered in subtract\n",
      "  a = op(a[slice1], a[slice2])\n",
      "c:\\Users\\herbe\\AppData\\Local\\Programs\\Python\\Python311\\Lib\\site-packages\\numpy\\lib\\function_base.py:1452: RuntimeWarning: invalid value encountered in subtract\n",
      "  a = op(a[slice1], a[slice2])\n",
      "c:\\Users\\herbe\\AppData\\Local\\Programs\\Python\\Python311\\Lib\\site-packages\\numpy\\lib\\function_base.py:1452: RuntimeWarning: invalid value encountered in subtract\n",
      "  a = op(a[slice1], a[slice2])\n",
      "c:\\Users\\herbe\\AppData\\Local\\Programs\\Python\\Python311\\Lib\\site-packages\\numpy\\lib\\function_base.py:1452: RuntimeWarning: invalid value encountered in subtract\n",
      "  a = op(a[slice1], a[slice2])\n",
      "c:\\Users\\herbe\\AppData\\Local\\Programs\\Python\\Python311\\Lib\\site-packages\\numpy\\lib\\function_base.py:1452: RuntimeWarning: invalid value encountered in subtract\n",
      "  a = op(a[slice1], a[slice2])\n",
      "c:\\Users\\herbe\\AppData\\Local\\Programs\\Python\\Python311\\Lib\\site-packages\\numpy\\lib\\function_base.py:1452: RuntimeWarning: invalid value encountered in subtract\n",
      "  a = op(a[slice1], a[slice2])\n",
      "c:\\Users\\herbe\\AppData\\Local\\Programs\\Python\\Python311\\Lib\\site-packages\\numpy\\lib\\function_base.py:1452: RuntimeWarning: invalid value encountered in subtract\n",
      "  a = op(a[slice1], a[slice2])\n",
      "c:\\Users\\herbe\\AppData\\Local\\Programs\\Python\\Python311\\Lib\\site-packages\\numpy\\lib\\function_base.py:1452: RuntimeWarning: invalid value encountered in subtract\n",
      "  a = op(a[slice1], a[slice2])\n",
      "c:\\Users\\herbe\\AppData\\Local\\Programs\\Python\\Python311\\Lib\\site-packages\\numpy\\lib\\function_base.py:1452: RuntimeWarning: invalid value encountered in subtract\n",
      "  a = op(a[slice1], a[slice2])\n",
      "c:\\Users\\herbe\\AppData\\Local\\Programs\\Python\\Python311\\Lib\\site-packages\\numpy\\lib\\function_base.py:1452: RuntimeWarning: invalid value encountered in subtract\n",
      "  a = op(a[slice1], a[slice2])\n",
      "c:\\Users\\herbe\\AppData\\Local\\Programs\\Python\\Python311\\Lib\\site-packages\\numpy\\lib\\function_base.py:1452: RuntimeWarning: invalid value encountered in subtract\n",
      "  a = op(a[slice1], a[slice2])\n",
      "c:\\Users\\herbe\\AppData\\Local\\Programs\\Python\\Python311\\Lib\\site-packages\\numpy\\lib\\function_base.py:1452: RuntimeWarning: invalid value encountered in subtract\n",
      "  a = op(a[slice1], a[slice2])\n",
      "c:\\Users\\herbe\\AppData\\Local\\Programs\\Python\\Python311\\Lib\\site-packages\\numpy\\lib\\function_base.py:1452: RuntimeWarning: invalid value encountered in subtract\n",
      "  a = op(a[slice1], a[slice2])\n",
      "c:\\Users\\herbe\\AppData\\Local\\Programs\\Python\\Python311\\Lib\\site-packages\\numpy\\lib\\function_base.py:1452: RuntimeWarning: invalid value encountered in subtract\n",
      "  a = op(a[slice1], a[slice2])\n"
     ]
    }
   ],
   "source": [
    "# Calculamos IV y WOEs de variables numericas\n",
    "iv_numericas = pd.DataFrame()\n",
    "woe_numericas = pd.DataFrame()\n",
    "for variable in numericas:\n",
    "    bins = optimal_binning(X_train,y_train,variable)\n",
    "    \n",
    "    iv, woe = calculate_iv_num(X_train,y_train,variable,bins)\n",
    "\n",
    "    if iv_numericas.empty:\n",
    "        iv_numericas = iv\n",
    "        woe_numericas = woe\n",
    "    else:\n",
    "        iv_numericas = pd.concat([iv_numericas,iv])\n",
    "        woe_numericas = pd.concat([woe_numericas,woe])\n",
    "\n",
    "# Eliminamos variables de apoyo\n",
    "del(iv,woe,variable)"
   ]
  }
 ],
 "metadata": {
  "kernelspec": {
   "display_name": "Python 3",
   "language": "python",
   "name": "python3"
  },
  "language_info": {
   "codemirror_mode": {
    "name": "ipython",
    "version": 3
   },
   "file_extension": ".py",
   "mimetype": "text/x-python",
   "name": "python",
   "nbconvert_exporter": "python",
   "pygments_lexer": "ipython3",
   "version": "3.11.4"
  }
 },
 "nbformat": 4,
 "nbformat_minor": 2
}
